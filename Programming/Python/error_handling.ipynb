{
 "cells": [
  {
   "cell_type": "markdown",
   "metadata": {},
   "source": [
    "## 1. try/except statement to gracefully respond to a ValueError exception:\n"
   ]
  },
  {
   "cell_type": "code",
   "execution_count": null,
   "metadata": {},
   "outputs": [],
   "source": [
    "# This program calculates gross pay: \n",
    "\n",
    "def main():\n",
    "    try:\n",
    "        #Get the number of hours worked.\n",
    "        hours = int(input('How many hours did you work: '))\n",
    "\n",
    "        #Get the hourly pay rate.\n",
    "        pay_rate = float(input('Enter you hourly pay rate: '))\n",
    "\n",
    "        #calculate gross pay:\n",
    "        gross_pay= hours* pay_rate\n",
    "\n",
    "        #Display the gross pay: \n",
    "        print('Gross pay: $', format(gross_pay, ',.2f'), sep='')\n",
    "    \n",
    "    except ValueError: \n",
    "        print('ERROR: Hours worked and hourly pay rate must be valid numbers')\n",
    "\n"
   ]
  },
  {
   "cell_type": "markdown",
   "metadata": {},
   "source": [
    "## 2. Handling Multiple Exceptions:"
   ]
  },
  {
   "cell_type": "code",
   "execution_count": null,
   "metadata": {},
   "outputs": [],
   "source": [
    "# this program displays the total of the amounts of in a sale.txt file\n",
    "\n",
    "def main():\n",
    "    #initialize the accumulator: \n",
    "    total = 0\n",
    "    \n",
    "    try:\n",
    "        #open the sale file\n",
    "        infile = open('sale_data.txt', 'r')\n",
    "        \n",
    "        #read value from the file and accumulate them\n",
    "        for line in infile:\n",
    "            amount = float(line)\n",
    "            total += amount\n",
    "            \n",
    "        #close the file\n",
    "        infile.close()\n",
    "        \n",
    "        # print the total\n",
    "        print(format(total, '.2f'))\n",
    "        \n",
    "    except IOError:\n",
    "        print('An error occured trying to read the file.')\n",
    "        \n",
    "    except ValueError:\n",
    "        print('Non-numeric data found in the file.')\n",
    "        \n",
    "    except:\n",
    "        print('An error occured')"
   ]
  }
 ],
 "metadata": {
  "kernelspec": {
   "display_name": "Python 3",
   "language": "python",
   "name": "python3"
  },
  "language_info": {
   "codemirror_mode": {
    "name": "ipython",
    "version": 3
   },
   "file_extension": ".py",
   "mimetype": "text/x-python",
   "name": "python",
   "nbconvert_exporter": "python",
   "pygments_lexer": "ipython3",
   "version": "3.7.2"
  }
 },
 "nbformat": 4,
 "nbformat_minor": 2
}
