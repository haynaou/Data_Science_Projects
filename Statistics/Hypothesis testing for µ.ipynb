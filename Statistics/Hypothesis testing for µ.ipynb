{
 "cells": [
  {
   "cell_type": "markdown",
   "metadata": {},
   "source": [
    "## Test if mean of random sample is equal to true mean:\n",
    "\n",
    "As the public concern about bacterial infections increases, a soap manufacture quickly promoted a new product to meet the demand for an antibacterial soap. This new product has a substantially higher price than the “ordinary soaps” on the market. A consumer testing agency notes that ordinary soap also kills bacteria and questions whether the new antibacterial soap is a substantial improvement over ordinary soap.\n",
    "\n",
    "A procedure for examining the ability of soap to kill bacteria is to place a solution containing the soap onto a petri dish and then add E. coli bacteria. After a 24-hour incubation period, a count of the number of bacteria colonies on the dish is taken. From previous studies using many different brands of ordinary soaps, the mean bacteria count is 33 for ordinary soap products. The consumer group runs the test on the antibacterial soap using 35 petri dishes. The results from the 35 petri dishes is a mean bacterial count of 31.2 with a standard deviation of 8.4. \n",
    "\n",
    "**Do the data provide sufficient evidence that the antibacterial soap is more effective than ordinary soap in reducing bacteria counts?** Use a aplha= .05."
   ]
  },
  {
   "cell_type": "code",
   "execution_count": 90,
   "metadata": {},
   "outputs": [
    {
     "name": "stdout",
     "output_type": "stream",
     "text": [
      "ztest -1.2677313820927751\n",
      "zscore of alpha= -1.6448536269514729\n",
      "\n",
      "The test statistic does not fall in the rejection region, We reserve judgment on accepting H0 until we calculate the chance of a Type II error b for several values of m falling in the alternative hy- pothesis, values of m less than 33. In other words, we conclude that there is insuf- ficient evidence to reject the null hypothesis and hence there is not sufficient evidence that the antibacterial soap is more effective than ordinary soap.\n"
     ]
    }
   ],
   "source": [
    "import math\n",
    "import scipy.stats as stats\n",
    "import matplotlib.pyplot as plt\n",
    "\n",
    "mean = 33             #population mean becterial count for the antibacterial soap\n",
    "sample_size = 35\n",
    "sample_mean = 31.2   #sample mean becterial count for the antibacterial soap\n",
    "sample_std = 8.4\n",
    "alpha = 0.05\n",
    "\n",
    "\n",
    "# Step 1: Defining hypothesis\n",
    "null_hypothesis = 'mean >= 33'\n",
    "alternative_hypothesis = 'mean < 33'\n",
    "\n",
    "# Step 2: Computing test statistic z test\n",
    "def statistical_test(X,x̄,s,n):\n",
    "    ztest = (x̄-X)/(s/math.sqrt(n))\n",
    "    print('ztest',ztest)\n",
    "    return ztest\n",
    "\n",
    "# Step 3: Rejection region approach\n",
    "def rejection_region(α):\n",
    "    z = statistical_test(mean, sample_mean, sample_std, sample_size)\n",
    "    zscore_alpha = stats.norm.ppf(α)\n",
    "    print('zscore of alpha=',zscore_alpha)\n",
    "    \n",
    "    if z <= zscore_alpha:\n",
    "        print('Reject null hypothesis', null_hypothesis)\n",
    "    else:\n",
    "        print('\\nThe test statistic does not fall in the rejection region, We reserve judgment on accepting H0 until we calculate the chance of a Type II error b for several values of m falling in the alternative hy- pothesis, values of m less than 33. In other words, we conclude that there is insuf- ficient evidence to reject the null hypothesis and hence there is not sufficient evidence that the antibacterial soap is more effective than ordinary soap.')\n",
    "\n",
    "rejection_region(alpha)\n"
   ]
  },
  {
   "cell_type": "markdown",
   "metadata": {},
   "source": [
    "Suppose that the consumer testing agency thinks that the manufacturer of the antibacterial soap will take legal action if the antibacterial soap has a population mean bacterial count that is considerably less than 33, say 28. Thus, the consumer group wants to know the probability of a Type II error in its test if the population mean is 28 or smaller—that is, determine B(28) because B(mean) <= B(28) for mean <= 28.\n"
   ]
  },
  {
   "cell_type": "code",
   "execution_count": 91,
   "metadata": {},
   "outputs": [
    {
     "name": "stdout",
     "output_type": "stream",
     "text": [
      "zscore_Beta= -1.8766224344173459\n",
      "B(28)= 0.03028493016982896 \n",
      "Power(28)= 0.9697150698301711\n",
      "\n",
      "B: the chance of type error II is relatively small, we accept the null hypothesis and conclude that the antibacterial soap is not more effective than ordinary soap in reducing bacteria counts.\n"
     ]
    }
   ],
   "source": [
    "# Computing type error II for B(28)\n",
    "\n",
    "mean_a= 28\n",
    "\n",
    "def type_error_II(X,x,s,n,α):\n",
    "    zscore_Beta= abs(stats.norm.ppf(α))- abs(X-x)/(s/math.sqrt(n))\n",
    "    print('zscore_Beta=', zscore_Beta)\n",
    "    B= stats.norm.cdf(zscore_Beta)\n",
    "    PWR = 1-B\n",
    "    print('B(28)=', B,'\\nPower(28)=',PWR)\n",
    "    \n",
    "    if B < 0.05:\n",
    "        print('\\nB: the chance of type error II is relatively small, we accept the null hypothesis and conclude that the antibacterial soap is not more effective than ordinary soap in reducing bacteria counts.')\n",
    "    else:\n",
    "        print('we reject null hypothesis')\n",
    "    \n",
    "type_error_II(mean, mean_a, sample_std, sample_size,alpha)\n",
    "\n"
   ]
  },
  {
   "cell_type": "markdown",
   "metadata": {},
   "source": [
    "The manufacturer of the antibacterial soap wants to determine the chance that the consumer group may have made an error in reaching its conclusions. The manufacturer wants to compute the probability of a Type II error for a selection of potential values of mean in the alternative hypothesis. This would provide them with an indication of how likely a Type II error may have occurred when in fact the new soap is considerably more effective in reducing bacterial counts in comparison to the mean count for ordinary soap, mean= 33. Repeating the calculations for obtaining B(28).\n",
    "\n",
    "potential values of mean: 33, 32, 31, 30, 29, 28, 27, 26, 25\n"
   ]
  },
  {
   "cell_type": "code",
   "execution_count": 92,
   "metadata": {},
   "outputs": [
    {
     "name": "stdout",
     "output_type": "stream",
     "text": [
      "type_errors_II= [0.9500000000000001, 0.8265343994076382, 0.5933857805357672, 0.31988084947217743, 0.12053285316495171, 0.03028493016982896, 0.004926904250734863, 0.000509526765436777, 3.310523320030134e-05]\n",
      "\n",
      "powers= [0.04999999999999993, 0.17346560059236182, 0.4066142194642328, 0.6801191505278226, 0.8794671468350483, 0.9697150698301711, 0.9950730957492652, 0.9994904732345632, 0.9999668947667997]\n"
     ]
    },
    {
     "data": {
      "image/png": "[encoded data removed]",
      "text/plain": [
       "<Figure size 432x288 with 1 Axes>"
      ]
     },
     "metadata": {
      "needs_background": "light"
     },
     "output_type": "display_data"
    }
   ],
   "source": [
    "#computing type error II for the means\n",
    "potential_means = [33, 32, 31, 30, 29, 28, 27, 26, 25]\n",
    "type_errors_II=[]\n",
    "powers=[]\n",
    "\n",
    "def potential_type_error_II(X,x,s,n,α):\n",
    "    for mean in x:\n",
    "        zscore_Beta= abs(stats.norm.ppf(α))- abs(X-mean)/(s/math.sqrt(n))\n",
    "        B= stats.norm.cdf(zscore_Beta)\n",
    "        type_errors_II.append(B)\n",
    "        powers.append(1-B)\n",
    "    \n",
    "    print('type_errors_II=',type_errors_II)\n",
    "    print('\\npowers=',powers)\n",
    "\n",
    "potential_type_error_II(mean, potential_means, sample_std, sample_size, aplha)\n",
    "\n",
    "\n",
    "# plotting means vs probability of Type error II:\n",
    "plt.plot(potential_means,type_errors_II)\n",
    "plt.xlabel('Mean')\n",
    "plt.ylabel('Probability of Type error II')\n",
    "plt.show()\n"
   ]
  },
  {
   "cell_type": "code",
   "execution_count": 81,
   "metadata": {},
   "outputs": [
    {
     "name": "stdout",
     "output_type": "stream",
     "text": [
      "As the value of mean decreases, the probability of Type II error decreases to 0 and the corresponding power value increases to 1.0. The company could examine this curve to determine whether the chances of Type II error are reasonable for values of mean in alternative hypothesis that are important to the company.\n",
      "We observe that B(28) = 0.0301, a relatively small number. Based on the results, we find that the test statistic does not fall in the rejection region. The manufacturer has decided that if the true population mean bacteria count for its antibacterial soap is 29 or less, it would have a product that would be considered a substantial improvement over ordinary soap. Based on the values of the probability of Type II error displayed, the chance is relatively small that the test run by the consumer agency has resulted in a Type II error for values of the mean bacterial count of 29 or smaller. Thus, the consumer testing agency was relatively certain in reporting that the new antibacterial soap did not decrease the mean bacterial in comparison to ordinary soap.\n"
     ]
    }
   ],
   "source": [
    "print ('As the value of mean decreases, the probability of Type II error decreases to 0 and the corresponding power value increases to 1.0. The company could examine this curve to determine whether the chances of Type II error are reasonable for values of mean in alternative hypothesis that are important to the company.\\nWe observe that B(28) = 0.0301, a relatively small number. Based on the results, we find that the test statistic does not fall in the rejection region. The manufacturer has decided that if the true population mean bacteria count for its antibacterial soap is 29 or less, it would have a product that would be considered a substantial improvement over ordinary soap. Based on the values of the probability of Type II error displayed, the chance is relatively small that the test run by the consumer agency has resulted in a Type II error for values of the mean bacterial count of 29 or smaller. Thus, the consumer testing agency was relatively certain in reporting that the new antibacterial soap did not decrease the mean bacterial in comparison to ordinary soap.')\n"
   ]
  },
  {
   "cell_type": "code",
   "execution_count": 93,
   "metadata": {},
   "outputs": [
    {
     "name": "stdout",
     "output_type": "stream",
     "text": [
      "ztest -1.2677313820927751\n",
      "alpha 0.05\n",
      "pvalue of z= 0.10244694690818923\n",
      "\n",
      "The test statistic does not fall in the rejection region, We reserve judgment on accepting H0 until we calculate the chance of a Type II error b for several values of m falling in the alternative hy- pothesis, values of m less than 33. In other words, we conclude that there is insuf- ficient evidence to reject the null hypothesis and hence there is not sufficient evidence that the antibacterial soap is more effective than ordinary soap.\n"
     ]
    }
   ],
   "source": [
    "# Step 3: pvalue approach\n",
    "\n",
    "z = statistical_test(mean, sample_mean, sample_std, sample_size)\n",
    "pvalue = stats.norm.cdf(z)\n",
    "print('alpha',alpha)\n",
    "print('pvalue of z=', pvalue)\n",
    "\n",
    "if pvalue <= aplha:\n",
    "    print('Reject null hypothesis', null_hypothesis)\n",
    "else:\n",
    "    print('\\nThe test statistic does not fall in the rejection region, We reserve judgment on accepting H0 until we calculate the chance of a Type II error b for several values of m falling in the alternative hy- pothesis, values of m less than 33. In other words, we conclude that there is insuf- ficient evidence to reject the null hypothesis and hence there is not sufficient evidence that the antibacterial soap is more effective than ordinary soap.')\n",
    "\n"
   ]
  },
  {
   "cell_type": "code",
   "execution_count": null,
   "metadata": {},
   "outputs": [],
   "source": []
  }
 ],
 "metadata": {
  "kernelspec": {
   "display_name": "Python 3",
   "language": "python",
   "name": "python3"
  },
  "language_info": {
   "codemirror_mode": {
    "name": "ipython",
    "version": 3
   },
   "file_extension": ".py",
   "mimetype": "text/x-python",
   "name": "python",
   "nbconvert_exporter": "python",
   "pygments_lexer": "ipython3",
   "version": "3.7.2"
  }
 },
 "nbformat": 4,
 "nbformat_minor": 2
}
